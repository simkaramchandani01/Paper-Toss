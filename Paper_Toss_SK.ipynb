{
 "cells": [
  {
   "cell_type": "markdown",
   "id": "df98a38b-3dce-4a6d-bfac-e9d691f438b9",
   "metadata": {},
   "source": [
    "### Import Libraries"
   ]
  },
  {
   "cell_type": "code",
   "execution_count": 1,
   "id": "f387e52d-6d72-4475-b27b-1f84c86fa4d8",
   "metadata": {},
   "outputs": [
    {
     "name": "stdout",
     "output_type": "stream",
     "text": [
      "pygame 2.6.1 (SDL 2.28.4, Python 3.9.21)\n",
      "Hello from the pygame community. https://www.pygame.org/contribute.html\n"
     ]
    }
   ],
   "source": [
    "import cv2\n",
    "import mediapipe as mp\n",
    "import pygame\n",
    "import sys\n",
    "import random\n",
    "import numpy as np"
   ]
  },
  {
   "cell_type": "markdown",
   "id": "7027828a-ebd4-4ca8-8c75-41c3b2d6fa6f",
   "metadata": {},
   "source": [
    "### MediaPipe Detector"
   ]
  },
  {
   "cell_type": "code",
   "execution_count": 2,
   "id": "0803b004-d563-489c-af90-6498de29eb28",
   "metadata": {},
   "outputs": [],
   "source": [
    "mp_pose = mp.solutions.pose\n",
    "pose = mp_pose.Pose() #initializing pose object from mediapipe for detection"
   ]
  },
  {
   "cell_type": "markdown",
   "id": "d454cd8d-7ca1-4423-9896-be80c0637bbe",
   "metadata": {},
   "source": [
    "### Pygame Initialization"
   ]
  },
  {
   "cell_type": "code",
   "execution_count": 3,
   "id": "8e58d088-90b3-4bc3-9ba9-1e0c29236366",
   "metadata": {},
   "outputs": [],
   "source": [
    "pygame.init() #initializing pygame modules\n",
    "screen=pygame.display.set_mode((800, 600)) #dimension of game window \n",
    "pygame.display.set_caption(\"Simran's Office Paper Toss - Simulated Experience\")\n",
    "clock=pygame.time.Clock()"
   ]
  },
  {
   "cell_type": "code",
   "execution_count": 4,
   "id": "edb47075-187f-4cba-94c9-0bd2beef5c81",
   "metadata": {},
   "outputs": [],
   "source": [
    "screen_width = 800\n",
    "screen_height = 600\n",
    "screen = pygame.display.set_mode((screen_width, screen_height))\n",
    "WHITE=(255,255,255)\n",
    "BLACK=(0,0,0)"
   ]
  },
  {
   "cell_type": "code",
   "execution_count": 5,
   "id": "70924588-78ac-40ae-bbc8-7092261e11da",
   "metadata": {},
   "outputs": [],
   "source": [
    "basket_img=pygame.Rect(700,450,80,80) #loading basket position and size"
   ]
  },
  {
   "cell_type": "code",
   "execution_count": 6,
   "id": "dd0ffc16-de97-4319-9412-90ea4f3efd93",
   "metadata": {},
   "outputs": [],
   "source": [
    "start_game_flag=False"
   ]
  },
  {
   "cell_type": "markdown",
   "id": "8064b78d-fcac-4d7f-a868-0bb981f510bc",
   "metadata": {},
   "source": [
    "### Wrist Choice"
   ]
  },
  {
   "cell_type": "code",
   "execution_count": 7,
   "id": "21937c38-56f1-42e8-8b95-bc99e8337b03",
   "metadata": {},
   "outputs": [
    {
     "name": "stdin",
     "output_type": "stream",
     "text": [
      "Choose which wrist to play with (left/right):  right\n"
     ]
    }
   ],
   "source": [
    "selected_wrist = input(\"Choose which wrist to play with (left/right): \").strip().lower()\n",
    "if selected_wrist not in ['left', 'right']:\n",
    "    print(\"Invalid choice. Will default to using right wrist.\")\n",
    "    selected_wrist = 'right'"
   ]
  },
  {
   "cell_type": "markdown",
   "id": "fa220a48-5339-4ea8-913c-fe9b3f4e743d",
   "metadata": {},
   "source": [
    "### Webcam and Motion Track"
   ]
  },
  {
   "cell_type": "code",
   "execution_count": 8,
   "id": "a92df687-ca91-4cc7-9ff9-8f13933f3f4a",
   "metadata": {},
   "outputs": [],
   "source": [
    "cam=cv2.VideoCapture(0) #start webcam"
   ]
  },
  {
   "cell_type": "code",
   "execution_count": 9,
   "id": "f7072f0f-df9f-4cda-a603-376d964f26c3",
   "metadata": {},
   "outputs": [],
   "source": [
    "prev_wrist=None #previous wrist motion \n",
    "def wrist_mov():\n",
    "    global prev_wrist\n",
    "    global selected_wrist\n",
    "    ret, frame=cam.read() #frame of camera \n",
    "    if not ret:\n",
    "        return None, None, None\n",
    "    frame=cv2.flip(frame, 1)\n",
    "    rgb=cv2.cvtColor(frame, cv2.COLOR_BGR2RGB)\n",
    "    results=pose.process(rgb) #detect pose landmarks using the pose model \n",
    "\n",
    "    wrist_pos=None #initializing starting wrist position and velocity \n",
    "    velocity=np.array([0.0,0.0], dtype=np.float64)\n",
    "\n",
    "    if results.pose_landmarks:\n",
    "        if selected_wrist == 'right':\n",
    "            wrist = results.pose_landmarks.landmark[mp_pose.PoseLandmark.RIGHT_WRIST]\n",
    "        else:\n",
    "            wrist = results.pose_landmarks.landmark[mp_pose.PoseLandmark.LEFT_WRIST]\n",
    "\n",
    "        wrist_pos=np.array([wrist.x*800, wrist.y*600]) #scaling to screen size of current wrist motion\n",
    "        #draw landmarks and connections on frame \n",
    "        mp.solutions.drawing_utils.draw_landmarks(\n",
    "            frame, results.pose_landmarks, mp_pose.POSE_CONNECTIONS,\n",
    "            landmark_drawing_spec=mp.solutions.drawing_utils.DrawingSpec(color=(0,255,0), thickness=2, circle_radius=4),\n",
    "            connection_drawing_spec=mp.solutions.drawing_utils.DrawingSpec(color=(0,0,255), thickness=2)\n",
    "        )\n",
    "\n",
    "        cx, cy = int(wrist.x * frame.shape[1]), int(wrist.y * frame.shape[0]) #indicates wrist position on frame \n",
    "        cv2.circle(frame, (cx, cy), 10, (255, 0, 0), -1)\n",
    "        cv2.putText(frame, 'Wrist Movement', (cx+10, cy), cv2.FONT_HERSHEY_SIMPLEX, 0.5, (255,0,0), 2)\n",
    "\n",
    "        if prev_wrist is not None: #difference in velocity between previous wrist and current wrist motion\n",
    "            velocity=wrist_pos - prev_wrist\n",
    "        else:\n",
    "            velocity=np.array([0.0,0.0], dtype=np.float64)#set velocity to 0 if there is no previous wrist motion\n",
    "\n",
    "        prev_wrist=wrist_pos #updating previous wrist motion for next iteration\n",
    "        return wrist_pos, velocity, frame\n",
    "    return None, None, frame"
   ]
  },
  {
   "cell_type": "markdown",
   "id": "599a6d89-2b33-4bd5-9b9b-a38dd4d07d11",
   "metadata": {},
   "source": [
    "### Paper Throwing"
   ]
  },
  {
   "cell_type": "code",
   "execution_count": 10,
   "id": "bd19e284-1979-424f-85b7-3afa8a3c1ff5",
   "metadata": {},
   "outputs": [],
   "source": [
    "class PaperBall:\n",
    "    def __init__(self, pos):  # initial position\n",
    "        self.initial_pos = np.array(pos, dtype=np.float64)  # stores original\n",
    "        self.pos = self.initial_pos.copy()\n",
    "        self.vel = np.array([0.0, 0.0], dtype=np.float64)\n",
    "        self.active = False  # wait to throw paper ball\n",
    "    def throw(self, velocity):\n",
    "        #velocity=np.array(velocity, dtype=np.float64)\n",
    "        self.vel=np.array(velocity, dtype=np.float64)*1.2 #scale speed\n",
    "        self.active=True\n",
    "    def update(self):\n",
    "        if self.active:\n",
    "            #print(f\"Pos Type: {self.pos.dtype}, Vel Type: {self.vel.dtype}\")  # Check types\n",
    "            self.pos += self.vel\n",
    "            self.vel[1] += 0.5  # accounting for gravity\n",
    "        if self.pos[1] > 600.0 or self.pos[0] > 800.0 or self.pos[0] < 0.0:\n",
    "            self.active = False\n",
    "            self.pos = self.initial_pos.copy()# reset position\n",
    "            self.vel = np.array([0.0, 0.0], dtype=np.float64)# reset velocity     \n",
    "    def draw(self,screen):\n",
    "        pygame.draw.circle(screen, (180,180,180), self.pos.astype(int), 15)"
   ]
  },
  {
   "cell_type": "markdown",
   "id": "53a3d6a2-2e7b-4f99-bee7-4fcae317f9aa",
   "metadata": {},
   "source": [
    "### Basket"
   ]
  },
  {
   "cell_type": "code",
   "execution_count": 11,
   "id": "ae4bccb6-edfb-40a8-a7c4-616f25e16553",
   "metadata": {},
   "outputs": [],
   "source": [
    "class Basket:\n",
    "    def __init__(self, x, y):\n",
    "        self.x = x\n",
    "        self.y = y\n",
    "        self.width = 80\n",
    "        self.height = 40\n",
    "        self.rect = pygame.Rect(self.x, self.y, self.width, self.height)\n",
    "        self.scored_balls=[] # acts as storage unit of landing paper \n",
    "    def draw(self, screen):\n",
    "        pygame.draw.rect(screen, (160,82,45), (self.x, self.y - 10, self.width, 20)) #outline of basket\n",
    "        pygame.draw.ellipse(screen, (160, 82, 45), (self.rect.x, self.rect.y, self.width, self.height)) #rim of basket\n",
    "        pygame.draw.rect(screen, (210, 180, 140), (self.rect.x, self.rect.y+self.height-10, self.width, 20), 1) #basket body\n",
    "\n",
    "        #--- stacking the balls---\n",
    "        for i, ball in enumerate(self.scored_balls):\n",
    "            stack_x=self.x+self.width//2\n",
    "            stack_y=self.y+self.height-10-i*12 \n",
    "            pygame.draw.circle(screen, (180, 180, 180), (stack_x,stack_y), 10)\n",
    "                                                #---Successfull collision between ball and basket---\n",
    "    def collision_check(self, paper_ball):\n",
    "        bx, by=paper_ball.pos\n",
    "        return self.rect.collidepoint(bx,by)\n",
    "    def add_scored_paper(self, paper_ball):\n",
    "        self.scored_balls.append(paper_ball.pos.copy())\n",
    "    def random_move(self, screen_width, screen_height, margin=100, ui_height=80):\n",
    "        max_x = screen_width - self.width - margin\n",
    "        max_y = screen_height - self.height - margin\n",
    "        min_x = margin\n",
    "        min_y = ui_height \n",
    "        self.x = random.randint(min_x, max_x)\n",
    "        self.y = random.randint(min_y, max_y)\n",
    "        self.rect.topleft = (self.x, self.y)"
   ]
  },
  {
   "cell_type": "markdown",
   "id": "f9394c38-a3f3-4e7b-8c97-742ee8996285",
   "metadata": {},
   "source": [
    "### Quit Function"
   ]
  },
  {
   "cell_type": "code",
   "execution_count": 12,
   "id": "cbdf257e-5695-4d59-805e-f73a7ee00e53",
   "metadata": {},
   "outputs": [],
   "source": [
    "button_rect = pygame.Rect(650, 20, 120, 40)  \n",
    "button_color = (200, 0, 0)\n",
    "button_text = \"Quit\""
   ]
  },
  {
   "cell_type": "markdown",
   "id": "746c2d1d-f349-417b-97fd-03f88c1042e2",
   "metadata": {},
   "source": [
    "### Main Game"
   ]
  },
  {
   "cell_type": "code",
   "execution_count": 13,
   "id": "480308f4-135b-459d-8474-156b2272e1b0",
   "metadata": {},
   "outputs": [],
   "source": [
    "#initialize paper ball \n",
    "if selected_wrist == 'right':\n",
    "    basket_x = 100   # basket on left\n",
    "    ball_start_x = 600  # ball on right\n",
    "else:\n",
    "    basket_x = 600   # basket on right\n",
    "    ball_start_x = 100  # ball on left\n",
    "\n",
    "basket = Basket(basket_x, 500)\n",
    "paper_throw = PaperBall(pos=[ball_start_x, 500])\n",
    "basket = Basket(basket_x, 500)\n",
    "base_score=0"
   ]
  },
  {
   "cell_type": "code",
   "execution_count": 14,
   "id": "c1ee0bbc-a719-4557-a303-17e77096b9f0",
   "metadata": {},
   "outputs": [
    {
     "ename": "SystemExit",
     "evalue": "",
     "output_type": "error",
     "traceback": [
      "An exception has occurred, use %tb to see the full traceback.\n",
      "\u001b[1;31mSystemExit\u001b[0m\n"
     ]
    },
    {
     "name": "stderr",
     "output_type": "stream",
     "text": [
      "C:\\Users\\svkar\\anaconda3\\envs\\office-sim\\lib\\site-packages\\IPython\\core\\interactiveshell.py:3558: UserWarning: To exit: use 'exit', 'quit', or Ctrl-D.\n",
      "  warn(\"To exit: use 'exit', 'quit', or Ctrl-D.\", stacklevel=1)\n"
     ]
    }
   ],
   "source": [
    "running=True\n",
    "game_started = False\n",
    "prev_wrist_pos = None\n",
    "cooldown_counter = 0\n",
    "throw_cooldown = 20\n",
    "velocity_threshold = 15  \n",
    "while running: \n",
    "    screen.fill((255, 255, 255)) #clear screen \n",
    "    basket.draw(screen)\n",
    "    wrist_pos, velocity, frame=wrist_mov() #refer to wrist movement function\n",
    "\n",
    "                                                                 #--- Start Game---\n",
    "    if not start_game_flag:\n",
    "        pygame.draw.rect(screen, (0, 128, 255), (300, 250, 200, 60))  \n",
    "        font = pygame.font.SysFont(None, 40)\n",
    "        text = font.render('Start Game', True, (255, 255, 255))\n",
    "        screen.blit(text, (320, 265))\n",
    "    \n",
    "    if game_started and wrist_pos is not None:\n",
    "        if prev_wrist_pos is not None:\n",
    "            velocity = np.array(wrist_pos) - np.array(prev_wrist_pos)\n",
    "        if selected_wrist == 'right':\n",
    "            velocity[0] *= -1  # flip direction for mirrored motion\n",
    "\n",
    "        speed = np.linalg.norm(velocity)\n",
    "\n",
    "        if speed > velocity_threshold and cooldown_counter <= 0 and not paper_throw.active:\n",
    "            paper_throw.throw(velocity)\n",
    "            cooldown_counter = throw_cooldown\n",
    "\n",
    "    prev_wrist_pos = wrist_pos\n",
    "\n",
    "    if cooldown_counter > 0:\n",
    "        cooldown_counter -= 1\n",
    "\n",
    "    #update and draw paper object\n",
    "    paper_throw.update() #update and draw the paper \n",
    "    paper_throw.draw(screen)\n",
    "    \n",
    "    #show collision \n",
    "    if paper_throw.active and basket.collision_check(paper_throw):\n",
    "        base_score+=1 #incrementing score for every collision \n",
    "        basket.add_scored_paper(paper_throw) #visually adds paper to the basket by reference to add_scored_paper function \n",
    "        paper_throw.active=False #deactivate the paper once thrown and added to the basket \n",
    "        paper_throw.pos=np.array([100.0,500.0], dtype=np.float64)\n",
    "        paper_throw.vel=np.array([0,0]) #resetting velocity \n",
    "        basket.random_move(screen_width, screen_height) #move the basket\n",
    "        \n",
    "    #show score\n",
    "    font=pygame.font.SysFont(None, 40)\n",
    "    text=font.render(f\"Player's Score: {base_score}\", True, BLACK)\n",
    "    screen.blit(text, (20,20))\n",
    "\n",
    "                                                                #---Quit button creation---\n",
    "    pygame.draw.rect(screen, button_color, button_rect) #defining quit button on the screen \n",
    "    font = pygame.font.SysFont(None, 30)\n",
    "    text_surface = font.render(button_text, True, (255, 255, 255))\n",
    "    text_rect = text_surface.get_rect(center=button_rect.center)  \n",
    "    screen.blit(text_surface, text_rect) #drawing text on the button \n",
    "\n",
    "                                                                    #--- Camera Feed ---\n",
    "\n",
    "    if frame is not None:\n",
    "        cv2.imshow(\"Tracking Movement\", frame)\n",
    "\n",
    "                                                                #--- Quitting the game---\n",
    "    for event in pygame.event.get():\n",
    "        if event.type == pygame.QUIT:\n",
    "            running = False\n",
    "\n",
    "        elif event.type == pygame.MOUSEBUTTONDOWN:\n",
    "            if button_rect.collidepoint(event.pos):\n",
    "                running = False  # Quit button\n",
    "            \n",
    "            elif not game_started and pygame.Rect(300, 250, 200, 60).collidepoint(event.pos):\n",
    "                game_started = True\n",
    "                start_game_flag= True\n",
    "                paper_throw.active = False\n",
    "                base_score = 0\n",
    "                cooldown_counter = 0\n",
    "                prev_wrist_pos = None\n",
    "\n",
    "\n",
    "    if cv2.waitKey(1) &0xFF==ord('q'): #quits game on 'q' click\n",
    "        break\n",
    "\n",
    "    pygame.display.flip()\n",
    "    clock.tick(30) #30 frames per second \n",
    "    \n",
    "cam.release() #release camera after quit \n",
    "pygame.quit()\n",
    "sys.exit()"
   ]
  }
 ],
 "metadata": {
  "kernelspec": {
   "display_name": "Python 3 (ipykernel)",
   "language": "python",
   "name": "python3"
  },
  "language_info": {
   "codemirror_mode": {
    "name": "ipython",
    "version": 3
   },
   "file_extension": ".py",
   "mimetype": "text/x-python",
   "name": "python",
   "nbconvert_exporter": "python",
   "pygments_lexer": "ipython3",
   "version": "3.9.21"
  }
 },
 "nbformat": 4,
 "nbformat_minor": 5
}
